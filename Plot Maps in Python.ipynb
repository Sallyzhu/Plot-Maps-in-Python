{
 "cells": [
  {
   "cell_type": "markdown",
   "metadata": {},
   "source": [
    "# Plot maps in Python\n",
    "\n",
    "In this notebook, I'll explore various ways to plot data points with `latitude` and `longitude` values on Maps using various libraries."
   ]
  },
  {
   "cell_type": "markdown",
   "metadata": {},
   "source": [
    "## Get the dataset"
   ]
  },
  {
   "cell_type": "code",
   "execution_count": 1,
   "metadata": {},
   "outputs": [],
   "source": [
    "import numpy as np\n",
    "import pandas as pd\n",
    "\n",
    "dataset = pd.read_csv('data/dataset.csv')"
   ]
  },
  {
   "cell_type": "code",
   "execution_count": 2,
   "metadata": {},
   "outputs": [
    {
     "data": {
      "text/html": [
       "<div>\n",
       "<style scoped>\n",
       "    .dataframe tbody tr th:only-of-type {\n",
       "        vertical-align: middle;\n",
       "    }\n",
       "\n",
       "    .dataframe tbody tr th {\n",
       "        vertical-align: top;\n",
       "    }\n",
       "\n",
       "    .dataframe thead th {\n",
       "        text-align: right;\n",
       "    }\n",
       "</style>\n",
       "<table border=\"1\" class=\"dataframe\">\n",
       "  <thead>\n",
       "    <tr style=\"text-align: right;\">\n",
       "      <th></th>\n",
       "      <th>address</th>\n",
       "      <th>name</th>\n",
       "      <th>stars</th>\n",
       "      <th>longitude</th>\n",
       "      <th>postal_code</th>\n",
       "      <th>business_id</th>\n",
       "      <th>latitude</th>\n",
       "      <th>review_count</th>\n",
       "      <th>categories</th>\n",
       "      <th>city</th>\n",
       "      <th>is_open</th>\n",
       "      <th>hours</th>\n",
       "      <th>attributes</th>\n",
       "      <th>state</th>\n",
       "    </tr>\n",
       "  </thead>\n",
       "  <tbody>\n",
       "    <tr>\n",
       "      <th>0</th>\n",
       "      <td>b'2818 E Camino Acequia Drive'</td>\n",
       "      <td>b'Arizona Biltmore Golf Club'</td>\n",
       "      <td>3.0</td>\n",
       "      <td>-112.018481</td>\n",
       "      <td>b'85016'</td>\n",
       "      <td>b'1SWheh84yJXfytovILXOAQ'</td>\n",
       "      <td>33.522143</td>\n",
       "      <td>5</td>\n",
       "      <td>b'Golf, Active Life'</td>\n",
       "      <td>b'Phoenix'</td>\n",
       "      <td>0</td>\n",
       "      <td>NaN</td>\n",
       "      <td>{'GoodForKids': 'False'}</td>\n",
       "      <td>b'AZ'</td>\n",
       "    </tr>\n",
       "    <tr>\n",
       "      <th>1</th>\n",
       "      <td>b'30 Eglinton Avenue W'</td>\n",
       "      <td>b'Emerald Chinese Restaurant'</td>\n",
       "      <td>2.5</td>\n",
       "      <td>-79.652289</td>\n",
       "      <td>b'L5R 3E7'</td>\n",
       "      <td>b'QXAEGFB4oINsVuTFxEYKFQ'</td>\n",
       "      <td>43.605499</td>\n",
       "      <td>128</td>\n",
       "      <td>b'Specialty Food, Restaurants, Dim Sum, Import...</td>\n",
       "      <td>b'Mississauga'</td>\n",
       "      <td>1</td>\n",
       "      <td>{'Monday': '9:0-0:0', 'Tuesday': '9:0-0:0', 'W...</td>\n",
       "      <td>{'RestaurantsReservations': 'True', 'GoodForMe...</td>\n",
       "      <td>b'ON'</td>\n",
       "    </tr>\n",
       "    <tr>\n",
       "      <th>2</th>\n",
       "      <td>b'10110 Johnston Rd, Ste 15'</td>\n",
       "      <td>b'Musashi Japanese Restaurant'</td>\n",
       "      <td>4.0</td>\n",
       "      <td>-80.859132</td>\n",
       "      <td>b'28210'</td>\n",
       "      <td>b'gnKjwL_1w79qoiV3IC_xQQ'</td>\n",
       "      <td>35.092564</td>\n",
       "      <td>170</td>\n",
       "      <td>b'Sushi Bars, Restaurants, Japanese'</td>\n",
       "      <td>b'Charlotte'</td>\n",
       "      <td>1</td>\n",
       "      <td>{'Monday': '17:30-21:30', 'Wednesday': '17:30-...</td>\n",
       "      <td>{'GoodForKids': 'True', 'NoiseLevel': \"u'avera...</td>\n",
       "      <td>b'NC'</td>\n",
       "    </tr>\n",
       "    <tr>\n",
       "      <th>3</th>\n",
       "      <td>b'15655 W Roosevelt St, Ste 237'</td>\n",
       "      <td>b'Farmers Insurance - Paul Lorenz'</td>\n",
       "      <td>5.0</td>\n",
       "      <td>-112.395596</td>\n",
       "      <td>b'85338'</td>\n",
       "      <td>b'xvX2CttrVhyG2z1dFg_0xw'</td>\n",
       "      <td>33.455613</td>\n",
       "      <td>3</td>\n",
       "      <td>b'Insurance, Financial Services'</td>\n",
       "      <td>b'Goodyear'</td>\n",
       "      <td>1</td>\n",
       "      <td>{'Monday': '8:0-17:0', 'Tuesday': '8:0-17:0', ...</td>\n",
       "      <td>NaN</td>\n",
       "      <td>b'AZ'</td>\n",
       "    </tr>\n",
       "    <tr>\n",
       "      <th>4</th>\n",
       "      <td>b'4209 Stuart Andrew Blvd, Ste F'</td>\n",
       "      <td>b'Queen City Plumbing'</td>\n",
       "      <td>4.0</td>\n",
       "      <td>-80.887223</td>\n",
       "      <td>b'28217'</td>\n",
       "      <td>b'HhyxOkGAM07SRYtlQ4wMFQ'</td>\n",
       "      <td>35.190012</td>\n",
       "      <td>4</td>\n",
       "      <td>b'Plumbing, Shopping, Local Services, Home Ser...</td>\n",
       "      <td>b'Charlotte'</td>\n",
       "      <td>1</td>\n",
       "      <td>{'Monday': '7:0-23:0', 'Tuesday': '7:0-23:0', ...</td>\n",
       "      <td>{'BusinessAcceptsBitcoin': 'False', 'ByAppoint...</td>\n",
       "      <td>b'NC'</td>\n",
       "    </tr>\n",
       "  </tbody>\n",
       "</table>\n",
       "</div>"
      ],
      "text/plain": [
       "                             address                                name  \\\n",
       "0     b'2818 E Camino Acequia Drive'       b'Arizona Biltmore Golf Club'   \n",
       "1            b'30 Eglinton Avenue W'       b'Emerald Chinese Restaurant'   \n",
       "2       b'10110 Johnston Rd, Ste 15'      b'Musashi Japanese Restaurant'   \n",
       "3   b'15655 W Roosevelt St, Ste 237'  b'Farmers Insurance - Paul Lorenz'   \n",
       "4  b'4209 Stuart Andrew Blvd, Ste F'              b'Queen City Plumbing'   \n",
       "\n",
       "   stars   longitude postal_code                business_id   latitude  \\\n",
       "0    3.0 -112.018481    b'85016'  b'1SWheh84yJXfytovILXOAQ'  33.522143   \n",
       "1    2.5  -79.652289  b'L5R 3E7'  b'QXAEGFB4oINsVuTFxEYKFQ'  43.605499   \n",
       "2    4.0  -80.859132    b'28210'  b'gnKjwL_1w79qoiV3IC_xQQ'  35.092564   \n",
       "3    5.0 -112.395596    b'85338'  b'xvX2CttrVhyG2z1dFg_0xw'  33.455613   \n",
       "4    4.0  -80.887223    b'28217'  b'HhyxOkGAM07SRYtlQ4wMFQ'  35.190012   \n",
       "\n",
       "   review_count                                         categories  \\\n",
       "0             5                               b'Golf, Active Life'   \n",
       "1           128  b'Specialty Food, Restaurants, Dim Sum, Import...   \n",
       "2           170               b'Sushi Bars, Restaurants, Japanese'   \n",
       "3             3                   b'Insurance, Financial Services'   \n",
       "4             4  b'Plumbing, Shopping, Local Services, Home Ser...   \n",
       "\n",
       "             city  is_open                                              hours  \\\n",
       "0      b'Phoenix'        0                                                NaN   \n",
       "1  b'Mississauga'        1  {'Monday': '9:0-0:0', 'Tuesday': '9:0-0:0', 'W...   \n",
       "2    b'Charlotte'        1  {'Monday': '17:30-21:30', 'Wednesday': '17:30-...   \n",
       "3     b'Goodyear'        1  {'Monday': '8:0-17:0', 'Tuesday': '8:0-17:0', ...   \n",
       "4    b'Charlotte'        1  {'Monday': '7:0-23:0', 'Tuesday': '7:0-23:0', ...   \n",
       "\n",
       "                                          attributes  state  \n",
       "0                           {'GoodForKids': 'False'}  b'AZ'  \n",
       "1  {'RestaurantsReservations': 'True', 'GoodForMe...  b'ON'  \n",
       "2  {'GoodForKids': 'True', 'NoiseLevel': \"u'avera...  b'NC'  \n",
       "3                                                NaN  b'AZ'  \n",
       "4  {'BusinessAcceptsBitcoin': 'False', 'ByAppoint...  b'NC'  "
      ]
     },
     "execution_count": 2,
     "metadata": {},
     "output_type": "execute_result"
    }
   ],
   "source": [
    "dataset.head(5)"
   ]
  },
  {
   "cell_type": "markdown",
   "metadata": {},
   "source": [
    "The latitude and lognitude values can be directly extracted from the respective columns."
   ]
  },
  {
   "cell_type": "code",
   "execution_count": 22,
   "metadata": {},
   "outputs": [],
   "source": [
    "latitudes = dataset.loc[:, 'latitude']\n",
    "longitudes = dataset.loc[:, 'longitude']\n",
    "names = dataset.loc[:, 'name']\n",
    "names = [name.split(\"\\'\")[1].split(\"\\'\")[0] for name in names]"
   ]
  },
  {
   "cell_type": "markdown",
   "metadata": {},
   "source": [
    "## Gmplot\n",
    "\n",
    "Using `gmplot` we can use Google Maps to plot the data and save the file as an HTML which we can then open in the browser. "
   ]
  },
  {
   "cell_type": "code",
   "execution_count": 26,
   "metadata": {},
   "outputs": [],
   "source": [
    "import gmplot \n",
    "  \n",
    "gmap = gmplot.GoogleMapPlotter(35, -102, 5) \n",
    "gmap.scatter(latitudes[:1000], longitudes[:1000], 'red', size=10)\n",
    "gmap.draw('data/map.html')"
   ]
  },
  {
   "cell_type": "code",
   "execution_count": 27,
   "metadata": {},
   "outputs": [],
   "source": [
    "gmap.apikey = '<API-kEY>' # Replace ############# with your API Key\n",
    "gmap.draw('data/map.html')"
   ]
  },
  {
   "cell_type": "markdown",
   "metadata": {},
   "source": [
    "Let's try to plot all the points in the dataset."
   ]
  },
  {
   "cell_type": "code",
   "execution_count": 28,
   "metadata": {},
   "outputs": [],
   "source": [
    "gmap.scatter(latitudes, longitudes, 'red', size=10)\n",
    "gmap.draw('data/map.html')"
   ]
  },
  {
   "cell_type": "markdown",
   "metadata": {},
   "source": [
    "Even though the `html` page was generated. Each time I tried to open it, it would load for a few seconds and then get unresponsive."
   ]
  },
  {
   "cell_type": "code",
   "execution_count": null,
   "metadata": {},
   "outputs": [],
   "source": []
  }
 ],
 "metadata": {
  "kernelspec": {
   "display_name": "Python 3",
   "language": "python",
   "name": "python3"
  },
  "language_info": {
   "codemirror_mode": {
    "name": "ipython",
    "version": 3
   },
   "file_extension": ".py",
   "mimetype": "text/x-python",
   "name": "python",
   "nbconvert_exporter": "python",
   "pygments_lexer": "ipython3",
   "version": "3.7.2"
  }
 },
 "nbformat": 4,
 "nbformat_minor": 2
}
